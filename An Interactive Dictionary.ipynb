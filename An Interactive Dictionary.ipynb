{
 "cells": [
  {
   "cell_type": "markdown",
   "metadata": {},
   "source": [
    "**This project consists of building an English dictionary where users can submit a word and the program returns the definition of the word.\n",
    "The data used for this project is a json dataset that contains an English dictionary.**"
   ]
  },
  {
   "cell_type": "code",
   "execution_count": 1,
   "metadata": {},
   "outputs": [],
   "source": [
    "import json\n",
    "from difflib import get_close_matches #given a word, returns its closest match from a list of words"
   ]
  },
  {
   "cell_type": "code",
   "execution_count": 9,
   "metadata": {},
   "outputs": [
    {
     "name": "stdout",
     "output_type": "stream",
     "text": [
      "Enter word: cat\n",
      "A common four-legged animal (Felis silvestris) that is often kept as a household pet.\n"
     ]
    }
   ],
   "source": [
    "data=json.load(open(\"data.json\"))\n",
    "\n",
    "def meaning(w):\n",
    "    w=w.lower() #to make the program case insensitive\n",
    "    if w in data:\n",
    "        return data[w]\n",
    "    elif w.title() in data: #if user entered \"texas\" this will check for \"Texas\" as well.\n",
    "        return data[w.title()]\n",
    "    elif w.upper() in data: #in case user enters words like USA or NATO\n",
    "        return data[w.upper()] \n",
    "    elif len(get_close_matches(w,data.keys()))>0:\n",
    "        YN = input(\"Did you mean %s instead? Enter Y if yes, or N if no: \" % get_close_matches(w, data.keys())[0])\n",
    "        if YN == \"Y\":\n",
    "            return data[get_close_matches(w, data.keys())[0]]\n",
    "        elif YN == \"N\":\n",
    "            return \"The word doesn't exist. Please double check it.\"\n",
    "        else:\n",
    "            return \"We didn't understand your input.\"\n",
    "    else:\n",
    "        return \"The word doesn't exist. Please recheck.\"\n",
    "\n",
    "    \n",
    "    \n",
    "word = input(\"Enter word: \")\n",
    "output = meaning(word)\n",
    "\n",
    "if type(output) == list:\n",
    "    for item in output:\n",
    "        print(item)\n",
    "else:\n",
    "    print(output)"
   ]
  },
  {
   "cell_type": "code",
   "execution_count": null,
   "metadata": {},
   "outputs": [],
   "source": []
  }
 ],
 "metadata": {
  "kernelspec": {
   "display_name": "Python 3",
   "language": "python",
   "name": "python3"
  },
  "language_info": {
   "codemirror_mode": {
    "name": "ipython",
    "version": 3
   },
   "file_extension": ".py",
   "mimetype": "text/x-python",
   "name": "python",
   "nbconvert_exporter": "python",
   "pygments_lexer": "ipython3",
   "version": "3.7.3"
  }
 },
 "nbformat": 4,
 "nbformat_minor": 2
}

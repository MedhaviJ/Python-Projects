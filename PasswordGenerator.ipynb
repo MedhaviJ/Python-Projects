{
 "cells": [
  {
   "cell_type": "code",
   "execution_count": 29,
   "metadata": {},
   "outputs": [],
   "source": [
    "import string #to use special chars/ascii chars/digits etc to generate a password\n",
    "from random import * #to generate RANDOM passwords\n",
    "from tkinter import * #to create a GUI \n",
    "\n",
    "#defining a function to generate random passwords\n",
    "def generate_password():\n",
    "    characters=string.ascii_letters+string.punctuation+string.digits\n",
    "    password=\"\".join(choice(characters) for x in range(randint(8,16))) #randint is used to generate random passwords between range of 8 to 16\n",
    "    t1.delete(\"1.0\", END) #to clear the current password from the text box\n",
    "    t1.insert(END, password) #to display the next generated password\n",
    "\n",
    "#creating a simple GUI to display the password on the click of a button\n",
    "window=Tk() #to open the window\n",
    "window.geometry(\"250x250\") #to set the size of the window\n",
    "\n",
    "b1=Button(window,text=\"Generate Password\", command=generate_password) \n",
    "b1.grid(row=2,column=1)\n",
    "\n",
    "t1=Text(window,font=(\"times\",20,\"bold\"), height=1, width=20)\n",
    "t1.grid(row=4,column=1)\n",
    "\n",
    "window.mainloop() #to close the window\n",
    "\n"
   ]
  }
 ],
 "metadata": {
  "kernelspec": {
   "display_name": "Python 3",
   "language": "python",
   "name": "python3"
  },
  "language_info": {
   "codemirror_mode": {
    "name": "ipython",
    "version": 3
   },
   "file_extension": ".py",
   "mimetype": "text/x-python",
   "name": "python",
   "nbconvert_exporter": "python",
   "pygments_lexer": "ipython3",
   "version": "3.7.3"
  }
 },
 "nbformat": 4,
 "nbformat_minor": 2
}

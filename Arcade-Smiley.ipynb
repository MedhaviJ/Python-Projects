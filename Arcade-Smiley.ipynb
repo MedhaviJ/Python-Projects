{
 "cells": [
  {
   "cell_type": "code",
   "execution_count": 1,
   "metadata": {},
   "outputs": [
    {
     "name": "stdout",
     "output_type": "stream",
     "text": [
      "Start\n",
      "Start\n"
     ]
    }
   ],
   "source": [
    "import arcade\n",
    "screen_ht= 600\n",
    "screen_wt= 600\n",
    "arcade.open_window(screen_ht,screen_wt, \"Drawing Example\")\n",
    "arcade.set_background_color(arcade.color.WHITE)\n",
    "arcade.start_render()\n",
    "\n",
    "#face\n",
    "x=300\n",
    "y=300\n",
    "radius=200\n",
    "arcade.draw_circle_filled(x,y,radius,arcade.color.YELLOW)\n",
    "arcade.draw_circle_outline(x,y,radius,arcade.color.BLACK)\n",
    "\n",
    "#right eye\n",
    "x=370\n",
    "y=350\n",
    "r=20\n",
    "arcade.draw_circle_filled(x,y,r,arcade.color.BLACK)\n",
    "\n",
    "#left eye\n",
    "x=230\n",
    "y=350\n",
    "r=20\n",
    "arcade.draw_circle_filled(x,y,r,arcade.color.BLACK)\n",
    "\n",
    "#smile\n",
    "x=300\n",
    "y=280\n",
    "wt=120\n",
    "ht=100\n",
    "s_angle=190\n",
    "e_angle=350\n",
    "arcade.draw_arc_outline(x,y,wt,ht,arcade.color.BLACK,s_angle,e_angle,10)\n",
    "\n",
    "arcade.finish_render()\n",
    "arcade.run()"
   ]
  },
  {
   "cell_type": "code",
   "execution_count": null,
   "metadata": {},
   "outputs": [],
   "source": []
  }
 ],
 "metadata": {
  "kernelspec": {
   "display_name": "Python 3",
   "language": "python",
   "name": "python3"
  },
  "language_info": {
   "codemirror_mode": {
    "name": "ipython",
    "version": 3
   },
   "file_extension": ".py",
   "mimetype": "text/x-python",
   "name": "python",
   "nbconvert_exporter": "python",
   "pygments_lexer": "ipython3",
   "version": "3.7.3"
  }
 },
 "nbformat": 4,
 "nbformat_minor": 2
}
